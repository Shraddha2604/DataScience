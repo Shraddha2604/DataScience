{
 "cells": [
  {
   "cell_type": "code",
   "execution_count": 130,
   "metadata": {},
   "outputs": [],
   "source": [
    "import numpy as np\n",
    "from functools import reduce\n",
    "\n",
    "class Solution:\n",
    "    def remove_duplicate(self, arr):\n",
    "        self.input_arr = arr.copy()\n",
    "        self.temp_arr = []\n",
    "        for i in range(0, len(arr)):\n",
    "            self.input_arr.remove(arr[i])\n",
    "            if arr[i] not in self.input_arr:\n",
    "                self.temp_arr.append(i)\n",
    "        return len(self.temp_arr)\n",
    "\n",
    "    def find_sum_greater_than_value(self, arr, x):\n",
    "        arr.sort(reverse = True)\n",
    "        self.temp = 0\n",
    "        self.temp_list = []\n",
    "        for i in range(0, len(arr)-1):\n",
    "            self.temp += arr[i]\n",
    "            if self.temp > x:\n",
    "                self.temp_list.extend(arr[:i+1])\n",
    "                break\n",
    "        if self.temp_list:\n",
    "            return self.temp_list\n",
    "        else:\n",
    "            return 0\n",
    "        \n",
    "    def occurrance(self, arr, x):\n",
    "        # self.temp_arr = arr.copy()\n",
    "        self.output_arr = []\n",
    "        if x in arr:\n",
    "            for i in range(0, len(arr)-1):\n",
    "                if arr[i] == x:\n",
    "                    self.output_arr.append(i)\n",
    "            return [self.output_arr[0], self.output_arr[-1]]\n",
    "        else:\n",
    "            return [-1,-1]\n",
    "        \n",
    "    def common_prefix(self, arr):\n",
    "        self.temp_dict = {}\n",
    "        self.output_list = []\n",
    "        for i in arr:\n",
    "            self.temp_dict[i] = len(i)\n",
    "        keys = list(self.temp_dict.keys())\n",
    "        values = list(self.temp_dict.values())\n",
    "        sorted_value_index = np.argsort(values)\n",
    "        self.sorted_dict = {keys[i]: values[i] for i in sorted_value_index}\n",
    "\n",
    "        self.check_key = list(self.sorted_dict.keys())[0]\n",
    "        for text in arr:\n",
    "            self.out_temp_list = []\n",
    "            for char in self.check_key:\n",
    "                if char in text:\n",
    "                    self.out_temp_list.append(char)\n",
    "            self.output_list.append(self.out_temp_list)\n",
    "\n",
    "\n",
    "        return ''.join(reduce(lambda x, y: x if len(x) < len(y) else y, self.output_list))\n",
    "    \n",
    "\n",
    "\n",
    "\n",
    "                \n"
   ]
  },
  {
   "cell_type": "code",
   "execution_count": 131,
   "metadata": {},
   "outputs": [],
   "source": [
    "sol = Solution()"
   ]
  },
  {
   "cell_type": "code",
   "execution_count": 98,
   "metadata": {},
   "outputs": [
    {
     "name": "stdout",
     "output_type": "stream",
     "text": [
      "7\n",
      "{2, 3, 4, 5, 6, 7, 8}\n"
     ]
    }
   ],
   "source": [
    "\n",
    "print(sol.remove_duplicate([2,3,4,5,5,6,6,7,8,8,8]))\n",
    "print(set([2,3,4,5,5,6,6,7,8,8,8]))\n",
    "sol.find_sum_greater_than_value([1, 4, 45, 6, 0, 19], 51)\n",
    "sol.occurrance([1, 3, 5, 5, 5, 5, 7, 123, 125], 7)"
   ]
  },
  {
   "cell_type": "code",
   "execution_count": 132,
   "metadata": {},
   "outputs": [
    {
     "data": {
      "text/plain": [
       "'gee'"
      ]
     },
     "execution_count": 132,
     "metadata": {},
     "output_type": "execute_result"
    }
   ],
   "source": [
    "sol.common_prefix(['geeksforgeeks', 'geeks', 'geek', 'geezer'])"
   ]
  },
  {
   "cell_type": "code",
   "execution_count": null,
   "metadata": {},
   "outputs": [],
   "source": []
  },
  {
   "cell_type": "code",
   "execution_count": null,
   "metadata": {},
   "outputs": [],
   "source": []
  }
 ],
 "metadata": {
  "kernelspec": {
   "display_name": "Python 3",
   "language": "python",
   "name": "python3"
  },
  "language_info": {
   "codemirror_mode": {
    "name": "ipython",
    "version": 3
   },
   "file_extension": ".py",
   "mimetype": "text/x-python",
   "name": "python",
   "nbconvert_exporter": "python",
   "pygments_lexer": "ipython3",
   "version": "3.9.13"
  }
 },
 "nbformat": 4,
 "nbformat_minor": 2
}
